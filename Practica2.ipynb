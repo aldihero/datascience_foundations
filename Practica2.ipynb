{
 "cells": [
  {
   "cell_type": "raw",
   "id": "3024118c",
   "metadata": {
    "vscode": {
     "languageId": "raw"
    }
   },
   "source": [
    "---\n",
    "title: \"Experimentos y análisis de estructuras de datos\"\n",
    "author: Alma Herrera\n",
    "---"
   ]
  },
  {
   "cell_type": "markdown",
   "id": "042bdced-1975-4180-90ec-f5f5244e3d4d",
   "metadata": {},
   "source": [
    "# Introducción"
   ]
  },
  {
   "cell_type": "markdown",
   "id": "a12500cf-ba86-49aa-9767-1c22d66c15f7",
   "metadata": {},
   "source": [
    "En la realización de este reporte se aborda el desempeño para algoritmos que realizan operaciones con matrices y que son muy usados en el área de Algebra Lineal, dichos algoritmos son multiplicación de matrices de la forma Naive, multiplicación por Strassen, eliminación Gaussiana y eliminación de Gauss-Jordan. Se verá cómo es el desempeño para cada uno tanto con mediciones de tiempo como el número de operaciones que ejecuta cada uno a partir de un análisis teórico. \n",
    "Se hacen algunas aclaraciones de por qué se decide usar un factor de $n$ ligeramente diferente para Strassen y se muestran las tablas de desempeño y total de operaciones para cada caso. \n",
    "\n",
    "Todas las implementaciones fueron hechas usando Julia y usando el paquete de BenchmarkTools para medidas de desempeño.\n",
    "\n",
    "El reporte esta estructurado de la siguiente forma\n",
    "\n",
    "- **Implementaciones.** Se muestra el código implementado para los 4 algoritmos\n",
    "- **Desempeño.** Se realizan las pruebas de desempeño para $n=100,300$ y $1000$\n",
    "- **Conteo de Operaciones**Se obtienen las expresiones para calcular el total de operaciones aritméticas \n",
    "- **Resultados.** Se muestran las tablas con los valores obtenidos de las medidas de desempeño vs el total de operaciones\n",
    "- **Conclusiones.** Se concluye el reporte con la opinión sobre el impacto de acceso a memoria y matrices dispersas\n",
    "- **Referencias.** Se muestran las referencias usadas en el reporte"
   ]
  },
  {
   "cell_type": "markdown",
   "id": "2d543338-868b-496a-9cf4-d5fe11a808e6",
   "metadata": {},
   "source": [
    "# Implementaciones"
   ]
  },
  {
   "cell_type": "markdown",
   "id": "f12acd74-9a1b-4476-8919-3b388173221f",
   "metadata": {},
   "source": [
    "En esta sección se muestran los algoritmos implementados, de forma que se realizaron 2 códigos para cada categoría, la implementación Naive o simple y el algoritmo de strassen para multiplicaciones de matrices. Para el otro caso se implemetó la eliminación gaussiana y Gauss-Jordan. Ya que la eliminación gaussiana deja las matrices de forma escalonada reducida y hace sustituciones hacia atrás, mientras que Gauss-Jordan solo deja 1 en la diagonal a traves de restas en las filas de acuerdo al pivote."
   ]
  },
  {
   "cell_type": "markdown",
   "id": "d7cf3009-bd01-44a8-8253-8cc459d3c2e8",
   "metadata": {},
   "source": [
    "## Multiplicación de matrices"
   ]
  },
  {
   "cell_type": "markdown",
   "id": "df1ddc37-0c33-44ff-be7f-dc014d9f85b6",
   "metadata": {},
   "source": [
    "### Simple (método Naive)"
   ]
  },
  {
   "cell_type": "code",
   "execution_count": 10,
   "id": "9e4459bc-5601-4196-8f83-f52b70fa0543",
   "metadata": {},
   "outputs": [
    {
     "data": {
      "text/plain": [
       "multiplicarMatrizCuadrada (generic function with 1 method)"
      ]
     },
     "execution_count": 10,
     "metadata": {},
     "output_type": "execute_result"
    }
   ],
   "source": [
    "function multiplicarMatrizCuadrada(A, B, C, n)\n",
    "    for i in 1:n\n",
    "        for j in 1:n\n",
    "            C[i,j] = 0\n",
    "            for k in 1:n\n",
    "                C[i,j] +=A[i,k]*B[k,j]\n",
    "            end    \n",
    "        end   \n",
    "    end    \n",
    "   return C\n",
    "end  "
   ]
  },
  {
   "cell_type": "markdown",
   "id": "7236f7a9-b762-4c3c-9613-ad0bf0bdf4de",
   "metadata": {},
   "source": [
    "### Algoritmo de Strassen"
   ]
  },
  {
   "cell_type": "markdown",
   "id": "fa2a69e0-cd2e-4899-a2e7-ea0d005f27be",
   "metadata": {},
   "source": [
    "El algoritmo de Strassen solo está definido para matrices que tengan tamaño 2^n como lo indica en el paper original¹ por lo que las pruebas de desempeño en la siguiente sección se usarán matrices que tengan esos tamaños."
   ]
  },
  {
   "cell_type": "code",
   "execution_count": 38,
   "id": "1366ee8d-ad26-4395-b832-8a93c6a5d89e",
   "metadata": {
    "jp-MarkdownHeadingCollapsed": true,
    "scrolled": true
   },
   "outputs": [
    {
     "data": {
      "text/plain": [
       "strassen (generic function with 1 method)"
      ]
     },
     "execution_count": 38,
     "metadata": {},
     "output_type": "execute_result"
    }
   ],
   "source": [
    "function strassen(A, B)\n",
    "    n = size(A, 1)  \n",
    "    if n <= 64\n",
    "        return A * B\n",
    "    end\n",
    "    # Seperar matrices en cuadrantes\n",
    "    half = n ÷ 2\n",
    "    A11 = A[1:half, 1:half]\n",
    "    A12 = A[1:half, half+1:end]\n",
    "    A21 = A[half+1:end, 1:half]\n",
    "    A22 = A[half+1:end, half+1:end]\n",
    "    \n",
    "    B11 = B[1:half, 1:half]\n",
    "    B12 = B[1:half, half+1:end]\n",
    "    B21 = B[half+1:end, 1:half]\n",
    "    B22 = B[half+1:end, half+1:end]\n",
    "    \n",
    "    # Realizar productos de acuerdo al algoritmo de strassen\n",
    "    P1 = strassen(A11 + A22, B11 + B22)\n",
    "    P2 = strassen(A21 + A22, B11)\n",
    "    P3 = strassen(A11, B12 - B22)\n",
    "    P4 = strassen(A22, B21 - B11)\n",
    "    P5 = strassen(A11 + A12, B22)\n",
    "    P6 = strassen(A21 - A11, B11 + B12)\n",
    "    P7 = strassen(A12 - A22, B21 + B22)\n",
    "    \n",
    "    # Realizar las operaciones en los cuadrantes\n",
    "    # de la matriz resultante \n",
    "    C11 = P1 + P4 - P5 + P7\n",
    "    C12 = P3 + P5\n",
    "    C21 = P2 + P4\n",
    "    C22 = P1 - P2 + P3 + P6\n",
    "    \n",
    "    # Combinar los resultados en la matriz resultante\n",
    "    C = zeros(n, n)\n",
    "    C[1:half, 1:half] = C11\n",
    "    C[1:half, half+1:end] = C12\n",
    "    C[half+1:end, 1:half] = C21\n",
    "    C[half+1:end, half+1:end] = C22\n",
    "    \n",
    "    return C\n",
    "end\n",
    "\n",
    "# A = rand(128, 128)\n",
    "# B = rand(128, 128)\n",
    "# C = strassen(A, B)\n"
   ]
  },
  {
   "cell_type": "markdown",
   "id": "d3ac99b8-2f5e-40aa-aa6c-e052a52189c2",
   "metadata": {},
   "source": [
    "## Eliminación Gaussiana / Gauss-Jordan"
   ]
  },
  {
   "cell_type": "markdown",
   "id": "e90aead3-20fb-4a61-baae-7d1ec880de23",
   "metadata": {},
   "source": [
    "### Eliminación Gaussiana"
   ]
  },
  {
   "cell_type": "markdown",
   "id": "b9add49b-731d-428b-ab65-ddab71ef9c80",
   "metadata": {},
   "source": [
    "La implementación de eliminación gaussiana se uso de base el pseudocodigo encontrado en el libro de Métdos Numéricos²"
   ]
  },
  {
   "cell_type": "code",
   "execution_count": 120,
   "id": "976af05b-e324-4f9f-8ed2-8c0976b2648c",
   "metadata": {},
   "outputs": [
    {
     "data": {
      "text/plain": [
       "gaussiana (generic function with 2 methods)"
      ]
     },
     "execution_count": 120,
     "metadata": {},
     "output_type": "execute_result"
    }
   ],
   "source": [
    "function gaussiana(A,b,n)\n",
    "# n = size(A, 1)\n",
    "    for k in 1:n-1\n",
    "        for i in  k+1:n\n",
    "            factor = A[i,k] / A[k,k]\n",
    "            for j in k:n\n",
    "                A[i,j] = A[i,j] - factor * A[k,j]\n",
    "            end\n",
    "            b[i] = b[i] - factor * b[k]\n",
    "        end\n",
    "    end\n",
    "\n",
    "#sustitucion hacia atraas\n",
    "    x = zeros(n)  \n",
    "    x[n] = b[n] / A[n, n] \n",
    "    for i in n-1:-1:1\n",
    "        sum = b[i]\n",
    "        for j in i+1:n\n",
    "            sum = sum - A[i, j] * x[j]\n",
    "        end\n",
    "        x[i] = sum / A[i, i]\n",
    "    end\n",
    "    return x\n",
    "end\n",
    "\n",
    "# A = [3 -0.1 -0.2; 0.1 7 -0.3; 0.3 -0.2 10]\n",
    "# b = [7.85, -19.3, 71.4]\n",
    "# gaussiana(A,b)"
   ]
  },
  {
   "cell_type": "markdown",
   "id": "6747a2bb-17fc-4b9c-b5bc-c00bcd5f6304",
   "metadata": {},
   "source": [
    "### Eliminación Gauss Jordan"
   ]
  },
  {
   "cell_type": "code",
   "execution_count": 85,
   "id": "20180c4b-1d5d-484a-a24a-935840708593",
   "metadata": {},
   "outputs": [
    {
     "data": {
      "text/plain": [
       "gauss_jordan (generic function with 2 methods)"
      ]
     },
     "execution_count": 85,
     "metadata": {},
     "output_type": "execute_result"
    }
   ],
   "source": [
    "function gauss_jordan(A, b, n)\n",
    "   \n",
    "    for i in 1:n\n",
    "\n",
    "        pivot = A[i, i]\n",
    "        A[i, :] = A[i, :] / pivot\n",
    "        b[i] = b[i] / pivot\n",
    "\n",
    "        for j in 1:n\n",
    "            if j != i\n",
    "                factor = A[j, i]\n",
    "                A[j, :] = A[j, :] - factor * A[i, :]\n",
    "                b[j] = b[j] - factor * b[i]\n",
    "            end\n",
    "        end\n",
    "    end\n",
    "    return b\n",
    "end\n",
    "\n",
    "# A = [3 -0.1 -0.2; 0.1 7 -0.3; 0.3 -0.2 10]\n",
    "# b = [7.85, -19.3, 71.4]\n",
    "# gauss_jordan(A, b, size(A, 1))"
   ]
  },
  {
   "cell_type": "markdown",
   "id": "ec65acea-94fb-481d-9122-64d66ff0b9ce",
   "metadata": {},
   "source": [
    "# Desempeño"
   ]
  },
  {
   "cell_type": "markdown",
   "id": "553f3b3d-cb17-40af-b7fc-f871ae4bd010",
   "metadata": {},
   "source": [
    "En esta sección se estará midiendo el desempeño para los cuatro algoritmos a través de la librería de benchmarkTools para obtener mejores mediciones de tiempo.\n",
    "Solo en el caso del algoritmo de strassen se estarán usando tamaños de $n=128, 512, 1024$ en lugar de $n=100,300,1000$ debido a la naturaleza del algoritmo que no permite tamaños que no estén en factores de base 2.\n",
    "\n",
    "En el caso de eliminaciones se corroboró que las matrices aleatorias generadas tuvieran solución y cumplieran con la característica que su determinante fuera diferente de cero para asegurar que es invertible la matriz A y por lo tanto asegurar que tiene solución el sistema. \n",
    "\n",
    "También se comprobó que la solución proporcionada para el vector $x$ tuviera un error mínimo comparado con el generado por la operación \\\\ (que es el operador usado en Julia para matrices), encontrando valores muy pequeños del orden de 10^(-12) asegurando que los algoritmos son consistentes.\n",
    "\n",
    "Todas las medidas de desempeño usaron la función tune!() para poder dar mejores estimaciones de tiempo."
   ]
  },
  {
   "cell_type": "code",
   "execution_count": 18,
   "id": "6c915e6e-fc03-43b1-9cf3-775f6d1bd7c2",
   "metadata": {},
   "outputs": [],
   "source": [
    "using BenchmarkTools"
   ]
  },
  {
   "cell_type": "markdown",
   "id": "64d68c84-64b5-4ffb-9d30-5c4626a3c495",
   "metadata": {},
   "source": [
    "## N = 100"
   ]
  },
  {
   "cell_type": "markdown",
   "id": "904ed2d7-cc56-45fd-9893-8791b2720570",
   "metadata": {},
   "source": [
    "### Multiplicaciones"
   ]
  },
  {
   "cell_type": "markdown",
   "id": "97a08c32-94d0-4b50-abdd-9e2029d0ced6",
   "metadata": {},
   "source": [
    "#### Multiplicación Simple"
   ]
  },
  {
   "cell_type": "code",
   "execution_count": 19,
   "id": "e3f25493-3312-4f97-8900-c950cba735ee",
   "metadata": {
    "scrolled": true
   },
   "outputs": [
    {
     "data": {
      "text/plain": [
       "BenchmarkTools.Trial: 1609 samples with 1 evaluation per sample.\n",
       " Range \u001b[90m(\u001b[39m\u001b[36m\u001b[1mmin\u001b[22m\u001b[39m … \u001b[35mmax\u001b[39m\u001b[90m):  \u001b[39m\u001b[36m\u001b[1m2.560 ms\u001b[22m\u001b[39m … \u001b[35m  4.243 ms\u001b[39m  \u001b[90m┊\u001b[39m GC \u001b[90m(\u001b[39mmin … max\u001b[90m): \u001b[39m0.00% … 0.00%\n",
       " Time  \u001b[90m(\u001b[39m\u001b[34m\u001b[1mmedian\u001b[22m\u001b[39m\u001b[90m):     \u001b[39m\u001b[34m\u001b[1m2.875 ms               \u001b[22m\u001b[39m\u001b[90m┊\u001b[39m GC \u001b[90m(\u001b[39mmedian\u001b[90m):    \u001b[39m0.00%\n",
       " Time  \u001b[90m(\u001b[39m\u001b[32m\u001b[1mmean\u001b[22m\u001b[39m ± \u001b[32mσ\u001b[39m\u001b[90m):   \u001b[39m\u001b[32m\u001b[1m2.957 ms\u001b[22m\u001b[39m ± \u001b[32m250.917 μs\u001b[39m  \u001b[90m┊\u001b[39m GC \u001b[90m(\u001b[39mmean ± σ\u001b[90m):  \u001b[39m0.00% ± 0.00%\n",
       "\n",
       "  \u001b[39m \u001b[39m \u001b[39m \u001b[39m \u001b[39m \u001b[39m \u001b[39m \u001b[39m▂\u001b[39m▄\u001b[39m▇\u001b[39m▆\u001b[39m▃\u001b[39m▇\u001b[39m█\u001b[39m▃\u001b[39m▁\u001b[39m▁\u001b[34m \u001b[39m\u001b[39m \u001b[39m \u001b[39m \u001b[32m \u001b[39m\u001b[39m \u001b[39m \u001b[39m \u001b[39m \u001b[39m \u001b[39m \u001b[39m \u001b[39m \u001b[39m \u001b[39m \u001b[39m \u001b[39m \u001b[39m \u001b[39m \u001b[39m \u001b[39m \u001b[39m \u001b[39m \u001b[39m \u001b[39m \u001b[39m \u001b[39m \u001b[39m \u001b[39m \u001b[39m \u001b[39m \u001b[39m \u001b[39m \u001b[39m \u001b[39m \u001b[39m \u001b[39m \u001b[39m \u001b[39m \u001b[39m \u001b[39m \u001b[39m \u001b[39m \u001b[39m \n",
       "  \u001b[39m▄\u001b[39m▁\u001b[39m▄\u001b[39m▃\u001b[39m▄\u001b[39m▇\u001b[39m▇\u001b[39m█\u001b[39m█\u001b[39m█\u001b[39m█\u001b[39m█\u001b[39m█\u001b[39m█\u001b[39m█\u001b[39m█\u001b[39m█\u001b[34m▇\u001b[39m\u001b[39m▇\u001b[39m▆\u001b[39m▇\u001b[32m▆\u001b[39m\u001b[39m▇\u001b[39m▇\u001b[39m▇\u001b[39m█\u001b[39m▇\u001b[39m▇\u001b[39m▆\u001b[39m▅\u001b[39m▆\u001b[39m▄\u001b[39m▇\u001b[39m▄\u001b[39m▄\u001b[39m▅\u001b[39m▅\u001b[39m▅\u001b[39m▄\u001b[39m▄\u001b[39m▃\u001b[39m▄\u001b[39m▅\u001b[39m▄\u001b[39m▃\u001b[39m▃\u001b[39m▃\u001b[39m▃\u001b[39m▃\u001b[39m▃\u001b[39m▃\u001b[39m▃\u001b[39m▂\u001b[39m▃\u001b[39m▃\u001b[39m▂\u001b[39m▃\u001b[39m▂\u001b[39m▃\u001b[39m \u001b[39m▄\n",
       "  2.56 ms\u001b[90m         Histogram: frequency by time\u001b[39m        3.68 ms \u001b[0m\u001b[1m<\u001b[22m\n",
       "\n",
       " Memory estimate\u001b[90m: \u001b[39m\u001b[33m0 bytes\u001b[39m, allocs estimate\u001b[90m: \u001b[39m\u001b[33m0\u001b[39m."
      ]
     },
     "execution_count": 19,
     "metadata": {},
     "output_type": "execute_result"
    }
   ],
   "source": [
    "n = 100\n",
    "b = @benchmarkable multiplicarMatrizCuadrada(A, B, C, $n) setup=(A=rand(1:100, $n, $n); B=rand(1:100, $n, $n); C=zeros($n,$n))\n",
    "tune!(b)\n",
    "run(b)"
   ]
  },
  {
   "cell_type": "markdown",
   "id": "3b1633aa-9bf7-408a-a574-4fe62f85ad66",
   "metadata": {},
   "source": [
    "#### Multiplicación - Strassen"
   ]
  },
  {
   "cell_type": "code",
   "execution_count": 39,
   "id": "d3928ff8-e5bc-48b0-b237-6c23ed37c51c",
   "metadata": {},
   "outputs": [
    {
     "data": {
      "text/plain": [
       "BenchmarkTools.Trial: 5110 samples with 1 evaluation per sample.\n",
       " Range \u001b[90m(\u001b[39m\u001b[36m\u001b[1mmin\u001b[22m\u001b[39m … \u001b[35mmax\u001b[39m\u001b[90m):  \u001b[39m\u001b[36m\u001b[1m653.699 μs\u001b[22m\u001b[39m … \u001b[35m  3.313 ms\u001b[39m  \u001b[90m┊\u001b[39m GC \u001b[90m(\u001b[39mmin … max\u001b[90m): \u001b[39m0.00% … 72.24%\n",
       " Time  \u001b[90m(\u001b[39m\u001b[34m\u001b[1mmedian\u001b[22m\u001b[39m\u001b[90m):     \u001b[39m\u001b[34m\u001b[1m702.138 μs               \u001b[22m\u001b[39m\u001b[90m┊\u001b[39m GC \u001b[90m(\u001b[39mmedian\u001b[90m):    \u001b[39m0.00%\n",
       " Time  \u001b[90m(\u001b[39m\u001b[32m\u001b[1mmean\u001b[22m\u001b[39m ± \u001b[32mσ\u001b[39m\u001b[90m):   \u001b[39m\u001b[32m\u001b[1m815.508 μs\u001b[22m\u001b[39m ± \u001b[32m271.428 μs\u001b[39m  \u001b[90m┊\u001b[39m GC \u001b[90m(\u001b[39mmean ± σ\u001b[90m):  \u001b[39m6.75% ± 11.98%\n",
       "\n",
       "  \u001b[39m█\u001b[39m▄\u001b[39m▄\u001b[34m▅\u001b[39m\u001b[39m▄\u001b[39m▄\u001b[39m▃\u001b[39m▁\u001b[39m▁\u001b[32m \u001b[39m\u001b[39m \u001b[39m \u001b[39m \u001b[39m \u001b[39m \u001b[39m \u001b[39m \u001b[39m \u001b[39m \u001b[39m \u001b[39m \u001b[39m \u001b[39m \u001b[39m \u001b[39m \u001b[39m \u001b[39m \u001b[39m \u001b[39m \u001b[39m \u001b[39m \u001b[39m▁\u001b[39m▁\u001b[39m \u001b[39m \u001b[39m \u001b[39m \u001b[39m \u001b[39m \u001b[39m \u001b[39m \u001b[39m \u001b[39m \u001b[39m \u001b[39m \u001b[39m \u001b[39m \u001b[39m \u001b[39m \u001b[39m \u001b[39m \u001b[39m \u001b[39m \u001b[39m \u001b[39m \u001b[39m \u001b[39m \u001b[39m \u001b[39m \u001b[39m \u001b[39m \u001b[39m \u001b[39m▁\n",
       "  \u001b[39m█\u001b[39m█\u001b[39m█\u001b[34m█\u001b[39m\u001b[39m█\u001b[39m█\u001b[39m█\u001b[39m█\u001b[39m█\u001b[32m█\u001b[39m\u001b[39m█\u001b[39m█\u001b[39m█\u001b[39m▇\u001b[39m▇\u001b[39m▇\u001b[39m▇\u001b[39m▇\u001b[39m▅\u001b[39m▆\u001b[39m▇\u001b[39m▇\u001b[39m▇\u001b[39m▆\u001b[39m▅\u001b[39m▅\u001b[39m▅\u001b[39m▄\u001b[39m▄\u001b[39m▆\u001b[39m█\u001b[39m█\u001b[39m█\u001b[39m▇\u001b[39m█\u001b[39m█\u001b[39m█\u001b[39m▇\u001b[39m▇\u001b[39m▇\u001b[39m█\u001b[39m▇\u001b[39m▇\u001b[39m▇\u001b[39m▇\u001b[39m▇\u001b[39m▆\u001b[39m▆\u001b[39m▆\u001b[39m▆\u001b[39m▆\u001b[39m▅\u001b[39m▆\u001b[39m▅\u001b[39m▆\u001b[39m▅\u001b[39m▄\u001b[39m▅\u001b[39m▅\u001b[39m▄\u001b[39m▅\u001b[39m \u001b[39m█\n",
       "  654 μs\u001b[90m        \u001b[39m\u001b[90mHistogram: \u001b[39m\u001b[90m\u001b[1mlog(\u001b[22m\u001b[39m\u001b[90mfrequency\u001b[39m\u001b[90m\u001b[1m)\u001b[22m\u001b[39m\u001b[90m by time\u001b[39m       1.77 ms \u001b[0m\u001b[1m<\u001b[22m\n",
       "\n",
       " Memory estimate\u001b[90m: \u001b[39m\u001b[33m1.13 MiB\u001b[39m, allocs estimate\u001b[90m: \u001b[39m\u001b[33m101\u001b[39m."
      ]
     },
     "execution_count": 39,
     "metadata": {},
     "output_type": "execute_result"
    }
   ],
   "source": [
    "n=128\n",
    "b = @benchmarkable strassen(A, B) setup=(A=rand(1:100, $n, $n); B=rand(1:100, $n, $n))\n",
    "tune!(b)\n",
    "run(b)"
   ]
  },
  {
   "cell_type": "markdown",
   "id": "144a4257-7db6-45cc-abb0-59aede32839b",
   "metadata": {},
   "source": [
    "### Eliminaciones"
   ]
  },
  {
   "cell_type": "markdown",
   "id": "0f6e1777-5218-44ea-a745-b51b250d5c78",
   "metadata": {},
   "source": [
    "#### Eliminación Gaussiana"
   ]
  },
  {
   "cell_type": "code",
   "execution_count": 79,
   "id": "1a8f724f-3312-409f-b5ae-849648eab4b8",
   "metadata": {},
   "outputs": [
    {
     "data": {
      "text/plain": [
       "BenchmarkTools.Trial: 1193 samples with 1 evaluation per sample.\n",
       " Range \u001b[90m(\u001b[39m\u001b[36m\u001b[1mmin\u001b[22m\u001b[39m … \u001b[35mmax\u001b[39m\u001b[90m):  \u001b[39m\u001b[36m\u001b[1m3.900 ms\u001b[22m\u001b[39m … \u001b[35m  5.633 ms\u001b[39m  \u001b[90m┊\u001b[39m GC \u001b[90m(\u001b[39mmin … max\u001b[90m): \u001b[39m0.00% … 0.00%\n",
       " Time  \u001b[90m(\u001b[39m\u001b[34m\u001b[1mmedian\u001b[22m\u001b[39m\u001b[90m):     \u001b[39m\u001b[34m\u001b[1m4.088 ms               \u001b[22m\u001b[39m\u001b[90m┊\u001b[39m GC \u001b[90m(\u001b[39mmedian\u001b[90m):    \u001b[39m0.00%\n",
       " Time  \u001b[90m(\u001b[39m\u001b[32m\u001b[1mmean\u001b[22m\u001b[39m ± \u001b[32mσ\u001b[39m\u001b[90m):   \u001b[39m\u001b[32m\u001b[1m4.188 ms\u001b[22m\u001b[39m ± \u001b[32m291.297 μs\u001b[39m  \u001b[90m┊\u001b[39m GC \u001b[90m(\u001b[39mmean ± σ\u001b[90m):  \u001b[39m0.00% ± 0.00%\n",
       "\n",
       "  \u001b[39m▅\u001b[39m \u001b[39m█\u001b[39m▆\u001b[39m▅\u001b[39m█\u001b[39m▂\u001b[39m▁\u001b[34m \u001b[39m\u001b[39m \u001b[39m \u001b[39m \u001b[32m \u001b[39m\u001b[39m \u001b[39m \u001b[39m▁\u001b[39m \u001b[39m \u001b[39m \u001b[39m \u001b[39m \u001b[39m \u001b[39m \u001b[39m \u001b[39m \u001b[39m \u001b[39m \u001b[39m \u001b[39m \u001b[39m \u001b[39m \u001b[39m \u001b[39m \u001b[39m \u001b[39m \u001b[39m \u001b[39m \u001b[39m \u001b[39m \u001b[39m \u001b[39m \u001b[39m \u001b[39m \u001b[39m \u001b[39m \u001b[39m \u001b[39m \u001b[39m \u001b[39m \u001b[39m \u001b[39m \u001b[39m \u001b[39m \u001b[39m \u001b[39m \u001b[39m \u001b[39m \u001b[39m \u001b[39m \u001b[39m \u001b[39m \n",
       "  \u001b[39m█\u001b[39m█\u001b[39m█\u001b[39m█\u001b[39m█\u001b[39m█\u001b[39m█\u001b[39m█\u001b[34m█\u001b[39m\u001b[39m▇\u001b[39m▅\u001b[39m▆\u001b[32m▆\u001b[39m\u001b[39m█\u001b[39m█\u001b[39m█\u001b[39m▇\u001b[39m▆\u001b[39m▅\u001b[39m▅\u001b[39m▄\u001b[39m▆\u001b[39m▄\u001b[39m▄\u001b[39m▄\u001b[39m▃\u001b[39m▃\u001b[39m▃\u001b[39m▃\u001b[39m▃\u001b[39m▂\u001b[39m▃\u001b[39m▂\u001b[39m▃\u001b[39m▂\u001b[39m▂\u001b[39m▂\u001b[39m▂\u001b[39m▃\u001b[39m▂\u001b[39m▁\u001b[39m▁\u001b[39m▂\u001b[39m▃\u001b[39m▃\u001b[39m▂\u001b[39m▂\u001b[39m▂\u001b[39m▃\u001b[39m▂\u001b[39m▂\u001b[39m▃\u001b[39m▃\u001b[39m▂\u001b[39m▂\u001b[39m▁\u001b[39m▂\u001b[39m▃\u001b[39m▃\u001b[39m \u001b[39m▄\n",
       "  3.9 ms\u001b[90m          Histogram: frequency by time\u001b[39m        5.28 ms \u001b[0m\u001b[1m<\u001b[22m\n",
       "\n",
       " Memory estimate\u001b[90m: \u001b[39m\u001b[33m928 bytes\u001b[39m, allocs estimate\u001b[90m: \u001b[39m\u001b[33m2\u001b[39m."
      ]
     },
     "execution_count": 79,
     "metadata": {},
     "output_type": "execute_result"
    }
   ],
   "source": [
    "using LinearAlgebra\n",
    "\n",
    "n=100\n",
    "A = rand(Float64, n, n)\n",
    "while det(A) == 0\n",
    "    A = rand(Float64, n, n)\n",
    "end\n",
    "b = rand(Float64, n)\n",
    "\n",
    "# x = gaussiana(A, b)\n",
    "# x2 = A \\ b\n",
    "# println(\"Factor de Error: \", norm(A * x - b))\n",
    "# println(\"Factor de Error: \", norm(A * x2 - b))\n",
    "# print(norm(A * x - b)-norm(A * x2 - b))\n",
    "b = @benchmarkable gaussiana($A, b) setup=(b = rand(Float64, $n))\n",
    "tune!(b)\n",
    "run(b)"
   ]
  },
  {
   "cell_type": "markdown",
   "id": "25cd4e98-bfe1-4d54-867f-7c69f2c36bab",
   "metadata": {},
   "source": [
    "#### ELiminación Gauss-Jordan"
   ]
  },
  {
   "cell_type": "code",
   "execution_count": 98,
   "id": "c52f6693-d44b-45c9-b0ff-5cc55b1c8ab9",
   "metadata": {},
   "outputs": [
    {
     "data": {
      "text/plain": [
       "BenchmarkTools.Trial: 928 samples with 1 evaluation per sample.\n",
       " Range \u001b[90m(\u001b[39m\u001b[36m\u001b[1mmin\u001b[22m\u001b[39m … \u001b[35mmax\u001b[39m\u001b[90m):  \u001b[39m\u001b[36m\u001b[1m4.220 ms\u001b[22m\u001b[39m … \u001b[35m54.857 ms\u001b[39m  \u001b[90m┊\u001b[39m GC \u001b[90m(\u001b[39mmin … max\u001b[90m): \u001b[39m 0.00% … 90.63%\n",
       " Time  \u001b[90m(\u001b[39m\u001b[34m\u001b[1mmedian\u001b[22m\u001b[39m\u001b[90m):     \u001b[39m\u001b[34m\u001b[1m4.636 ms              \u001b[22m\u001b[39m\u001b[90m┊\u001b[39m GC \u001b[90m(\u001b[39mmedian\u001b[90m):    \u001b[39m12.97%\n",
       " Time  \u001b[90m(\u001b[39m\u001b[32m\u001b[1mmean\u001b[22m\u001b[39m ± \u001b[32mσ\u001b[39m\u001b[90m):   \u001b[39m\u001b[32m\u001b[1m5.381 ms\u001b[22m\u001b[39m ± \u001b[32m 3.766 ms\u001b[39m  \u001b[90m┊\u001b[39m GC \u001b[90m(\u001b[39mmean ± σ\u001b[90m):  \u001b[39m15.59% ±  5.97%\n",
       "\n",
       "  \u001b[39m▇\u001b[34m█\u001b[39m\u001b[39m▆\u001b[32m▃\u001b[39m\u001b[39m▁\u001b[39m \u001b[39m \u001b[39m \u001b[39m \u001b[39m \u001b[39m \u001b[39m \u001b[39m \u001b[39m \u001b[39m \u001b[39m \u001b[39m \u001b[39m \u001b[39m \u001b[39m \u001b[39m \u001b[39m \u001b[39m \u001b[39m \u001b[39m \u001b[39m \u001b[39m \u001b[39m \u001b[39m \u001b[39m \u001b[39m \u001b[39m \u001b[39m \u001b[39m \u001b[39m \u001b[39m \u001b[39m \u001b[39m \u001b[39m \u001b[39m \u001b[39m \u001b[39m \u001b[39m \u001b[39m \u001b[39m \u001b[39m \u001b[39m \u001b[39m \u001b[39m \u001b[39m \u001b[39m \u001b[39m \u001b[39m \u001b[39m \u001b[39m \u001b[39m \u001b[39m \u001b[39m \u001b[39m \u001b[39m \n",
       "  \u001b[39m█\u001b[34m█\u001b[39m\u001b[39m█\u001b[32m█\u001b[39m\u001b[39m█\u001b[39m█\u001b[39m█\u001b[39m▅\u001b[39m▅\u001b[39m▅\u001b[39m▁\u001b[39m▄\u001b[39m▁\u001b[39m▁\u001b[39m▄\u001b[39m▁\u001b[39m▁\u001b[39m▄\u001b[39m▁\u001b[39m▁\u001b[39m▁\u001b[39m▁\u001b[39m▁\u001b[39m▁\u001b[39m▁\u001b[39m▁\u001b[39m▁\u001b[39m▁\u001b[39m▄\u001b[39m▁\u001b[39m▁\u001b[39m▄\u001b[39m▁\u001b[39m▁\u001b[39m▁\u001b[39m▁\u001b[39m▁\u001b[39m▁\u001b[39m▁\u001b[39m▁\u001b[39m▁\u001b[39m▄\u001b[39m▁\u001b[39m▁\u001b[39m▁\u001b[39m▁\u001b[39m▄\u001b[39m▁\u001b[39m▁\u001b[39m▁\u001b[39m▁\u001b[39m▄\u001b[39m▁\u001b[39m▅\u001b[39m▆\u001b[39m▅\u001b[39m▄\u001b[39m▅\u001b[39m \u001b[39m▇\n",
       "  4.22 ms\u001b[90m      \u001b[39m\u001b[90mHistogram: \u001b[39m\u001b[90m\u001b[1mlog(\u001b[22m\u001b[39m\u001b[90mfrequency\u001b[39m\u001b[90m\u001b[1m)\u001b[22m\u001b[39m\u001b[90m by time\u001b[39m     23.6 ms \u001b[0m\u001b[1m<\u001b[22m\n",
       "\n",
       " Memory estimate\u001b[90m: \u001b[39m\u001b[33m35.30 MiB\u001b[39m, allocs estimate\u001b[90m: \u001b[39m\u001b[33m79605\u001b[39m."
      ]
     },
     "execution_count": 98,
     "metadata": {},
     "output_type": "execute_result"
    }
   ],
   "source": [
    "A = rand(Float64, n, n)\n",
    "while det(A) == 0\n",
    "    A = rand(Float64, n, n)\n",
    "end\n",
    "\n",
    "# x = gauss_jordan(A, b,n)\n",
    "# x2 = A \\ b\n",
    "# println(\"Factor de error: \", norm(A * x - b))\n",
    "# println(\"Factor de error: \", norm(A * x2 - b))\n",
    "\n",
    "b = @benchmarkable gauss_jordan($A, B) setup=(B = rand(Float64, $n))\n",
    "tune!(b)\n",
    "run(b)"
   ]
  },
  {
   "cell_type": "markdown",
   "id": "a25fbf85-de76-4ab5-b6cd-dea01b5d13e7",
   "metadata": {},
   "source": [
    "## N = 300"
   ]
  },
  {
   "cell_type": "code",
   "execution_count": 89,
   "id": "dcbaece7-28a2-4972-a69a-0bdbd299c147",
   "metadata": {},
   "outputs": [
    {
     "data": {
      "text/plain": [
       "300"
      ]
     },
     "execution_count": 89,
     "metadata": {},
     "output_type": "execute_result"
    }
   ],
   "source": [
    "n=300"
   ]
  },
  {
   "cell_type": "markdown",
   "id": "e5ac37f6-ff2b-4666-b123-b6fb0f615fdd",
   "metadata": {},
   "source": [
    "### Multiplicaciones"
   ]
  },
  {
   "cell_type": "markdown",
   "id": "e365a493-6570-4a8e-b407-fe3122a95b90",
   "metadata": {},
   "source": [
    "#### Multiplicación Simple"
   ]
  },
  {
   "cell_type": "code",
   "execution_count": 90,
   "id": "8608bd63-0e05-442d-b77b-174ec70fd58e",
   "metadata": {
    "scrolled": true
   },
   "outputs": [
    {
     "data": {
      "text/plain": [
       "BenchmarkTools.Trial: 63 samples with 1 evaluation per sample.\n",
       " Range \u001b[90m(\u001b[39m\u001b[36m\u001b[1mmin\u001b[22m\u001b[39m … \u001b[35mmax\u001b[39m\u001b[90m):  \u001b[39m\u001b[36m\u001b[1m76.488 ms\u001b[22m\u001b[39m … \u001b[35m85.424 ms\u001b[39m  \u001b[90m┊\u001b[39m GC \u001b[90m(\u001b[39mmin … max\u001b[90m): \u001b[39m0.00% … 0.00%\n",
       " Time  \u001b[90m(\u001b[39m\u001b[34m\u001b[1mmedian\u001b[22m\u001b[39m\u001b[90m):     \u001b[39m\u001b[34m\u001b[1m78.010 ms              \u001b[22m\u001b[39m\u001b[90m┊\u001b[39m GC \u001b[90m(\u001b[39mmedian\u001b[90m):    \u001b[39m0.00%\n",
       " Time  \u001b[90m(\u001b[39m\u001b[32m\u001b[1mmean\u001b[22m\u001b[39m ± \u001b[32mσ\u001b[39m\u001b[90m):   \u001b[39m\u001b[32m\u001b[1m78.862 ms\u001b[22m\u001b[39m ± \u001b[32m 2.203 ms\u001b[39m  \u001b[90m┊\u001b[39m GC \u001b[90m(\u001b[39mmean ± σ\u001b[90m):  \u001b[39m0.00% ± 0.00%\n",
       "\n",
       "  \u001b[39m \u001b[39m \u001b[39m \u001b[39m \u001b[39m█\u001b[39m▂\u001b[39m \u001b[39m \u001b[39m \u001b[39m▂\u001b[34m \u001b[39m\u001b[39m \u001b[39m \u001b[39m \u001b[39m \u001b[39m \u001b[32m \u001b[39m\u001b[39m \u001b[39m \u001b[39m \u001b[39m \u001b[39m \u001b[39m \u001b[39m \u001b[39m \u001b[39m \u001b[39m \u001b[39m \u001b[39m \u001b[39m \u001b[39m \u001b[39m \u001b[39m \u001b[39m \u001b[39m \u001b[39m \u001b[39m \u001b[39m \u001b[39m \u001b[39m \u001b[39m \u001b[39m \u001b[39m \u001b[39m \u001b[39m \u001b[39m \u001b[39m \u001b[39m \u001b[39m \u001b[39m \u001b[39m \u001b[39m \u001b[39m \u001b[39m \u001b[39m \u001b[39m \u001b[39m \u001b[39m \u001b[39m \u001b[39m \u001b[39m \n",
       "  \u001b[39m█\u001b[39m▆\u001b[39m▆\u001b[39m▆\u001b[39m█\u001b[39m█\u001b[39m█\u001b[39m█\u001b[39m▄\u001b[39m█\u001b[34m█\u001b[39m\u001b[39m█\u001b[39m▁\u001b[39m▄\u001b[39m▄\u001b[39m▆\u001b[32m▆\u001b[39m\u001b[39m▁\u001b[39m▁\u001b[39m▄\u001b[39m▆\u001b[39m▄\u001b[39m▁\u001b[39m▁\u001b[39m▁\u001b[39m▄\u001b[39m▁\u001b[39m▄\u001b[39m▄\u001b[39m▄\u001b[39m▄\u001b[39m▁\u001b[39m▁\u001b[39m█\u001b[39m▁\u001b[39m▁\u001b[39m▁\u001b[39m▄\u001b[39m▁\u001b[39m▄\u001b[39m▄\u001b[39m▁\u001b[39m▁\u001b[39m▆\u001b[39m▁\u001b[39m▁\u001b[39m▁\u001b[39m▄\u001b[39m▁\u001b[39m▁\u001b[39m▁\u001b[39m▁\u001b[39m▁\u001b[39m▁\u001b[39m▁\u001b[39m▁\u001b[39m▁\u001b[39m▁\u001b[39m▄\u001b[39m \u001b[39m▁\n",
       "  76.5 ms\u001b[90m         Histogram: frequency by time\u001b[39m        85.2 ms \u001b[0m\u001b[1m<\u001b[22m\n",
       "\n",
       " Memory estimate\u001b[90m: \u001b[39m\u001b[33m0 bytes\u001b[39m, allocs estimate\u001b[90m: \u001b[39m\u001b[33m0\u001b[39m."
      ]
     },
     "execution_count": 90,
     "metadata": {},
     "output_type": "execute_result"
    }
   ],
   "source": [
    "b = @benchmarkable multiplicarMatrizCuadrada(A, B, C, $n) setup=(A=rand(1:100, $n, $n); B=rand(1:100, $n, $n); C=zeros($n,$n))\n",
    "tune!(b)\n",
    "run(b)"
   ]
  },
  {
   "cell_type": "markdown",
   "id": "5f69ac1c-6b66-4b3a-857b-3cf77095d71a",
   "metadata": {},
   "source": [
    "#### Multiplicación - Strassen"
   ]
  },
  {
   "cell_type": "code",
   "execution_count": 91,
   "id": "cca63bda-4a44-4747-9207-39a0ab058a11",
   "metadata": {},
   "outputs": [
    {
     "data": {
      "text/plain": [
       "BenchmarkTools.Trial: 72 samples with 1 evaluation per sample.\n",
       " Range \u001b[90m(\u001b[39m\u001b[36m\u001b[1mmin\u001b[22m\u001b[39m … \u001b[35mmax\u001b[39m\u001b[90m):  \u001b[39m\u001b[36m\u001b[1m40.152 ms\u001b[22m\u001b[39m … \u001b[35m185.792 ms\u001b[39m  \u001b[90m┊\u001b[39m GC \u001b[90m(\u001b[39mmin … max\u001b[90m): \u001b[39m 2.36% … 67.21%\n",
       " Time  \u001b[90m(\u001b[39m\u001b[34m\u001b[1mmedian\u001b[22m\u001b[39m\u001b[90m):     \u001b[39m\u001b[34m\u001b[1m47.352 ms               \u001b[22m\u001b[39m\u001b[90m┊\u001b[39m GC \u001b[90m(\u001b[39mmedian\u001b[90m):    \u001b[39m 2.63%\n",
       " Time  \u001b[90m(\u001b[39m\u001b[32m\u001b[1mmean\u001b[22m\u001b[39m ± \u001b[32mσ\u001b[39m\u001b[90m):   \u001b[39m\u001b[32m\u001b[1m66.107 ms\u001b[22m\u001b[39m ± \u001b[32m 44.573 ms\u001b[39m  \u001b[90m┊\u001b[39m GC \u001b[90m(\u001b[39mmean ± σ\u001b[90m):  \u001b[39m31.27% ± 25.59%\n",
       "\n",
       "  \u001b[39m█\u001b[39m▂\u001b[39m \u001b[34m \u001b[39m\u001b[39m \u001b[39m \u001b[39m \u001b[39m \u001b[39m \u001b[39m \u001b[39m \u001b[32m \u001b[39m\u001b[39m \u001b[39m \u001b[39m \u001b[39m \u001b[39m \u001b[39m \u001b[39m \u001b[39m \u001b[39m \u001b[39m \u001b[39m \u001b[39m \u001b[39m \u001b[39m \u001b[39m \u001b[39m \u001b[39m \u001b[39m \u001b[39m \u001b[39m \u001b[39m \u001b[39m \u001b[39m \u001b[39m \u001b[39m \u001b[39m \u001b[39m \u001b[39m \u001b[39m \u001b[39m \u001b[39m \u001b[39m \u001b[39m \u001b[39m \u001b[39m \u001b[39m \u001b[39m \u001b[39m \u001b[39m \u001b[39m \u001b[39m \u001b[39m \u001b[39m \u001b[39m \u001b[39m \u001b[39m \u001b[39m \u001b[39m \u001b[39m \u001b[39m \n",
       "  \u001b[39m█\u001b[39m█\u001b[39m█\u001b[34m█\u001b[39m\u001b[39m▅\u001b[39m▄\u001b[39m▄\u001b[39m▄\u001b[39m▄\u001b[39m▁\u001b[39m▁\u001b[32m▃\u001b[39m\u001b[39m▄\u001b[39m▁\u001b[39m▁\u001b[39m▁\u001b[39m▁\u001b[39m▁\u001b[39m▁\u001b[39m▁\u001b[39m▁\u001b[39m▁\u001b[39m▁\u001b[39m▁\u001b[39m▁\u001b[39m▁\u001b[39m▁\u001b[39m▁\u001b[39m▁\u001b[39m▁\u001b[39m▁\u001b[39m▁\u001b[39m▁\u001b[39m▁\u001b[39m▁\u001b[39m▁\u001b[39m▁\u001b[39m▁\u001b[39m▁\u001b[39m▁\u001b[39m▁\u001b[39m▁\u001b[39m▁\u001b[39m▁\u001b[39m▁\u001b[39m▁\u001b[39m▃\u001b[39m▁\u001b[39m▁\u001b[39m▁\u001b[39m▁\u001b[39m▁\u001b[39m▆\u001b[39m▃\u001b[39m▁\u001b[39m▃\u001b[39m▃\u001b[39m▁\u001b[39m▁\u001b[39m▃\u001b[39m \u001b[39m▁\n",
       "  40.2 ms\u001b[90m         Histogram: frequency by time\u001b[39m          182 ms \u001b[0m\u001b[1m<\u001b[22m\n",
       "\n",
       " Memory estimate\u001b[90m: \u001b[39m\u001b[33m95.14 MiB\u001b[39m, allocs estimate\u001b[90m: \u001b[39m\u001b[33m5589\u001b[39m."
      ]
     },
     "execution_count": 91,
     "metadata": {},
     "output_type": "execute_result"
    }
   ],
   "source": [
    "n=512\n",
    "b = @benchmarkable strassen(A, B) setup=(A=rand(1:100, $n, $n); B=rand(1:100, $n, $n))\n",
    "tune!(b)\n",
    "run(b)"
   ]
  },
  {
   "cell_type": "markdown",
   "id": "bf5e4e66-ebe8-42d2-aa96-85f5849f67bc",
   "metadata": {},
   "source": [
    "### Eliminaciones"
   ]
  },
  {
   "cell_type": "markdown",
   "id": "87dcda5a-8ba3-49a0-bcb1-bc5d138d45ed",
   "metadata": {},
   "source": [
    "#### Eliminación Gaussiana"
   ]
  },
  {
   "cell_type": "code",
   "execution_count": 92,
   "id": "f9900b8e-86f1-41e3-8ef8-d6b3095a3dc9",
   "metadata": {},
   "outputs": [
    {
     "data": {
      "text/plain": [
       "BenchmarkTools.Trial: 20 samples with 1 evaluation per sample.\n",
       " Range \u001b[90m(\u001b[39m\u001b[36m\u001b[1mmin\u001b[22m\u001b[39m … \u001b[35mmax\u001b[39m\u001b[90m):  \u001b[39m\u001b[36m\u001b[1m247.601 ms\u001b[22m\u001b[39m … \u001b[35m279.131 ms\u001b[39m  \u001b[90m┊\u001b[39m GC \u001b[90m(\u001b[39mmin … max\u001b[90m): \u001b[39m0.00% … 0.00%\n",
       " Time  \u001b[90m(\u001b[39m\u001b[34m\u001b[1mmedian\u001b[22m\u001b[39m\u001b[90m):     \u001b[39m\u001b[34m\u001b[1m253.197 ms               \u001b[22m\u001b[39m\u001b[90m┊\u001b[39m GC \u001b[90m(\u001b[39mmedian\u001b[90m):    \u001b[39m0.00%\n",
       " Time  \u001b[90m(\u001b[39m\u001b[32m\u001b[1mmean\u001b[22m\u001b[39m ± \u001b[32mσ\u001b[39m\u001b[90m):   \u001b[39m\u001b[32m\u001b[1m255.660 ms\u001b[22m\u001b[39m ± \u001b[32m  8.987 ms\u001b[39m  \u001b[90m┊\u001b[39m GC \u001b[90m(\u001b[39mmean ± σ\u001b[90m):  \u001b[39m0.00% ± 0.00%\n",
       "\n",
       "  \u001b[39m█\u001b[39m▃\u001b[39m▃\u001b[39m \u001b[39m \u001b[39m \u001b[39m \u001b[39m \u001b[39m \u001b[39m \u001b[39m▃\u001b[34m \u001b[39m\u001b[39m \u001b[39m \u001b[39m \u001b[39m \u001b[32m \u001b[39m\u001b[39m \u001b[39m \u001b[39m \u001b[39m \u001b[39m \u001b[39m \u001b[39m \u001b[39m \u001b[39m \u001b[39m \u001b[39m \u001b[39m \u001b[39m \u001b[39m \u001b[39m \u001b[39m \u001b[39m \u001b[39m \u001b[39m \u001b[39m \u001b[39m \u001b[39m \u001b[39m \u001b[39m \u001b[39m \u001b[39m \u001b[39m \u001b[39m \u001b[39m \u001b[39m \u001b[39m \u001b[39m \u001b[39m \u001b[39m \u001b[39m \u001b[39m \u001b[39m \u001b[39m \u001b[39m \u001b[39m \u001b[39m \u001b[39m \u001b[39m \u001b[39m \u001b[39m \u001b[39m \n",
       "  \u001b[39m█\u001b[39m█\u001b[39m█\u001b[39m▁\u001b[39m▁\u001b[39m▁\u001b[39m▇\u001b[39m▁\u001b[39m▇\u001b[39m▁\u001b[39m█\u001b[34m▇\u001b[39m\u001b[39m▁\u001b[39m▇\u001b[39m▁\u001b[39m▁\u001b[32m▁\u001b[39m\u001b[39m▇\u001b[39m▁\u001b[39m▁\u001b[39m▁\u001b[39m▇\u001b[39m▁\u001b[39m▁\u001b[39m▇\u001b[39m▁\u001b[39m▁\u001b[39m▁\u001b[39m▁\u001b[39m▇\u001b[39m▁\u001b[39m▇\u001b[39m▁\u001b[39m▁\u001b[39m▁\u001b[39m▁\u001b[39m▁\u001b[39m▁\u001b[39m▁\u001b[39m▁\u001b[39m▁\u001b[39m▁\u001b[39m▁\u001b[39m▁\u001b[39m▁\u001b[39m▁\u001b[39m▁\u001b[39m▁\u001b[39m▁\u001b[39m▁\u001b[39m▁\u001b[39m▁\u001b[39m▁\u001b[39m▁\u001b[39m▇\u001b[39m▁\u001b[39m▁\u001b[39m▁\u001b[39m▁\u001b[39m▁\u001b[39m▇\u001b[39m \u001b[39m▁\n",
       "  248 ms\u001b[90m           Histogram: frequency by time\u001b[39m          279 ms \u001b[0m\u001b[1m<\u001b[22m\n",
       "\n",
       " Memory estimate\u001b[90m: \u001b[39m\u001b[33m2.44 KiB\u001b[39m, allocs estimate\u001b[90m: \u001b[39m\u001b[33m3\u001b[39m."
      ]
     },
     "execution_count": 92,
     "metadata": {},
     "output_type": "execute_result"
    }
   ],
   "source": [
    "n=300\n",
    "A = rand(Float64, n, n)\n",
    "while det(A) == 0\n",
    "    A = rand(Float64, n, n)\n",
    "end\n",
    "\n",
    "b = @benchmarkable gaussiana($A, B) setup=(B = rand(Float64, $n))\n",
    "tune!(b)\n",
    "run(b)"
   ]
  },
  {
   "cell_type": "markdown",
   "id": "a964b148-b9d9-4c66-8d29-e254e733a0b4",
   "metadata": {},
   "source": [
    "#### ELiminación Gauss-Jordan"
   ]
  },
  {
   "cell_type": "code",
   "execution_count": 107,
   "id": "68f8213c-5979-4e07-ad00-8f5551ff7f03",
   "metadata": {},
   "outputs": [
    {
     "data": {
      "text/plain": [
       "BenchmarkTools.Trial: 13 samples with 1 evaluation per sample.\n",
       " Range \u001b[90m(\u001b[39m\u001b[36m\u001b[1mmin\u001b[22m\u001b[39m … \u001b[35mmax\u001b[39m\u001b[90m):  \u001b[39m\u001b[36m\u001b[1m350.985 ms\u001b[22m\u001b[39m … \u001b[35m530.231 ms\u001b[39m  \u001b[90m┊\u001b[39m GC \u001b[90m(\u001b[39mmin … max\u001b[90m): \u001b[39m27.80% … 17.52%\n",
       " Time  \u001b[90m(\u001b[39m\u001b[34m\u001b[1mmedian\u001b[22m\u001b[39m\u001b[90m):     \u001b[39m\u001b[34m\u001b[1m360.742 ms               \u001b[22m\u001b[39m\u001b[90m┊\u001b[39m GC \u001b[90m(\u001b[39mmedian\u001b[90m):    \u001b[39m27.89%\n",
       " Time  \u001b[90m(\u001b[39m\u001b[32m\u001b[1mmean\u001b[22m\u001b[39m ± \u001b[32mσ\u001b[39m\u001b[90m):   \u001b[39m\u001b[32m\u001b[1m385.925 ms\u001b[22m\u001b[39m ± \u001b[32m 50.920 ms\u001b[39m  \u001b[90m┊\u001b[39m GC \u001b[90m(\u001b[39mmean ± σ\u001b[90m):  \u001b[39m27.21% ±  3.10%\n",
       "\n",
       "  \u001b[39m \u001b[39m█\u001b[39m \u001b[34m▃\u001b[39m\u001b[39m \u001b[39m \u001b[39m \u001b[39m \u001b[39m \u001b[39m \u001b[39m \u001b[39m \u001b[32m \u001b[39m\u001b[39m \u001b[39m \u001b[39m \u001b[39m \u001b[39m \u001b[39m \u001b[39m \u001b[39m \u001b[39m \u001b[39m \u001b[39m \u001b[39m \u001b[39m▃\u001b[39m \u001b[39m \u001b[39m \u001b[39m \u001b[39m \u001b[39m \u001b[39m \u001b[39m \u001b[39m \u001b[39m \u001b[39m \u001b[39m \u001b[39m \u001b[39m \u001b[39m \u001b[39m \u001b[39m \u001b[39m \u001b[39m \u001b[39m \u001b[39m \u001b[39m \u001b[39m \u001b[39m \u001b[39m \u001b[39m \u001b[39m \u001b[39m \u001b[39m \u001b[39m \u001b[39m \u001b[39m \u001b[39m \u001b[39m \u001b[39m \u001b[39m \u001b[39m \n",
       "  \u001b[39m▇\u001b[39m█\u001b[39m▇\u001b[34m█\u001b[39m\u001b[39m▇\u001b[39m▁\u001b[39m▇\u001b[39m▁\u001b[39m▁\u001b[39m▁\u001b[39m▁\u001b[39m▁\u001b[32m▁\u001b[39m\u001b[39m▁\u001b[39m▁\u001b[39m▁\u001b[39m▁\u001b[39m▇\u001b[39m▁\u001b[39m▁\u001b[39m▁\u001b[39m▁\u001b[39m▁\u001b[39m▁\u001b[39m▁\u001b[39m█\u001b[39m▁\u001b[39m▁\u001b[39m▁\u001b[39m▁\u001b[39m▁\u001b[39m▁\u001b[39m▁\u001b[39m▁\u001b[39m▁\u001b[39m▁\u001b[39m▁\u001b[39m▁\u001b[39m▁\u001b[39m▁\u001b[39m▁\u001b[39m▁\u001b[39m▁\u001b[39m▁\u001b[39m▁\u001b[39m▁\u001b[39m▁\u001b[39m▁\u001b[39m▁\u001b[39m▁\u001b[39m▁\u001b[39m▁\u001b[39m▁\u001b[39m▁\u001b[39m▁\u001b[39m▁\u001b[39m▁\u001b[39m▁\u001b[39m▁\u001b[39m▁\u001b[39m▇\u001b[39m \u001b[39m▁\n",
       "  351 ms\u001b[90m           Histogram: frequency by time\u001b[39m          530 ms \u001b[0m\u001b[1m<\u001b[22m\n",
       "\n",
       " Memory estimate\u001b[90m: \u001b[39m\u001b[33m856.20 MiB\u001b[39m, allocs estimate\u001b[90m: \u001b[39m\u001b[33m1078206\u001b[39m."
      ]
     },
     "execution_count": 107,
     "metadata": {},
     "output_type": "execute_result"
    }
   ],
   "source": [
    "A = rand(Float64, n, n)\n",
    "while det(A) == 0\n",
    "    A = rand(Float64, n, n)\n",
    "end\n",
    "\n",
    "b = @benchmarkable gauss_jordan($A, B) setup=(B = rand(Float64, $n))\n",
    "tune!(b)\n",
    "run(b)"
   ]
  },
  {
   "cell_type": "code",
   "execution_count": 111,
   "id": "b7f6a12b-174b-4539-a62a-2b842f9e2b14",
   "metadata": {},
   "outputs": [],
   "source": [
    "# size(A,1)"
   ]
  },
  {
   "cell_type": "markdown",
   "id": "8cf15f95-95d5-4ee2-ab22-ccea40cfd817",
   "metadata": {},
   "source": [
    "## N = 1000"
   ]
  },
  {
   "cell_type": "markdown",
   "id": "5f3bb5cb-334b-43ef-a584-41e6a961028c",
   "metadata": {},
   "source": [
    "### Multiplicaciones"
   ]
  },
  {
   "cell_type": "markdown",
   "id": "d1b5680f-bb48-4495-8d88-2e881ffae5b9",
   "metadata": {},
   "source": [
    "#### Multiplicación Simple"
   ]
  },
  {
   "cell_type": "code",
   "execution_count": 112,
   "id": "693cb44a-728d-42ec-9a0f-057c8a8676e5",
   "metadata": {
    "scrolled": true
   },
   "outputs": [
    {
     "data": {
      "text/plain": [
       "BenchmarkTools.Trial: 2 samples with 1 evaluation per sample.\n",
       " Range \u001b[90m(\u001b[39m\u001b[36m\u001b[1mmin\u001b[22m\u001b[39m … \u001b[35mmax\u001b[39m\u001b[90m):  \u001b[39m\u001b[36m\u001b[1m3.452 s\u001b[22m\u001b[39m … \u001b[35m 3.455 s\u001b[39m  \u001b[90m┊\u001b[39m GC \u001b[90m(\u001b[39mmin … max\u001b[90m): \u001b[39m0.00% … 0.00%\n",
       " Time  \u001b[90m(\u001b[39m\u001b[34m\u001b[1mmedian\u001b[22m\u001b[39m\u001b[90m):     \u001b[39m\u001b[34m\u001b[1m3.453 s             \u001b[22m\u001b[39m\u001b[90m┊\u001b[39m GC \u001b[90m(\u001b[39mmedian\u001b[90m):    \u001b[39m0.00%\n",
       " Time  \u001b[90m(\u001b[39m\u001b[32m\u001b[1mmean\u001b[22m\u001b[39m ± \u001b[32mσ\u001b[39m\u001b[90m):   \u001b[39m\u001b[32m\u001b[1m3.453 s\u001b[22m\u001b[39m ± \u001b[32m1.903 ms\u001b[39m  \u001b[90m┊\u001b[39m GC \u001b[90m(\u001b[39mmean ± σ\u001b[90m):  \u001b[39m0.00% ± 0.00%\n",
       "\n",
       "  \u001b[34m█\u001b[39m\u001b[39m \u001b[39m \u001b[39m \u001b[39m \u001b[39m \u001b[39m \u001b[39m \u001b[39m \u001b[39m \u001b[39m \u001b[39m \u001b[39m \u001b[39m \u001b[39m \u001b[39m \u001b[39m \u001b[39m \u001b[39m \u001b[39m \u001b[39m \u001b[39m \u001b[39m \u001b[39m \u001b[39m \u001b[39m \u001b[39m \u001b[39m \u001b[32m \u001b[39m\u001b[39m \u001b[39m \u001b[39m \u001b[39m \u001b[39m \u001b[39m \u001b[39m \u001b[39m \u001b[39m \u001b[39m \u001b[39m \u001b[39m \u001b[39m \u001b[39m \u001b[39m \u001b[39m \u001b[39m \u001b[39m \u001b[39m \u001b[39m \u001b[39m \u001b[39m \u001b[39m \u001b[39m \u001b[39m \u001b[39m \u001b[39m█\u001b[39m \u001b[39m \n",
       "  \u001b[34m█\u001b[39m\u001b[39m▁\u001b[39m▁\u001b[39m▁\u001b[39m▁\u001b[39m▁\u001b[39m▁\u001b[39m▁\u001b[39m▁\u001b[39m▁\u001b[39m▁\u001b[39m▁\u001b[39m▁\u001b[39m▁\u001b[39m▁\u001b[39m▁\u001b[39m▁\u001b[39m▁\u001b[39m▁\u001b[39m▁\u001b[39m▁\u001b[39m▁\u001b[39m▁\u001b[39m▁\u001b[39m▁\u001b[39m▁\u001b[39m▁\u001b[39m▁\u001b[32m▁\u001b[39m\u001b[39m▁\u001b[39m▁\u001b[39m▁\u001b[39m▁\u001b[39m▁\u001b[39m▁\u001b[39m▁\u001b[39m▁\u001b[39m▁\u001b[39m▁\u001b[39m▁\u001b[39m▁\u001b[39m▁\u001b[39m▁\u001b[39m▁\u001b[39m▁\u001b[39m▁\u001b[39m▁\u001b[39m▁\u001b[39m▁\u001b[39m▁\u001b[39m▁\u001b[39m▁\u001b[39m▁\u001b[39m▁\u001b[39m▁\u001b[39m█\u001b[39m \u001b[39m▁\n",
       "  3.45 s\u001b[90m        Histogram: frequency by time\u001b[39m        3.45 s \u001b[0m\u001b[1m<\u001b[22m\n",
       "\n",
       " Memory estimate\u001b[90m: \u001b[39m\u001b[33m0 bytes\u001b[39m, allocs estimate\u001b[90m: \u001b[39m\u001b[33m0\u001b[39m."
      ]
     },
     "execution_count": 112,
     "metadata": {},
     "output_type": "execute_result"
    }
   ],
   "source": [
    "n = 1000\n",
    "b = @benchmarkable multiplicarMatrizCuadrada(A, B, C, $n) setup=(A=rand(1:100, $n, $n); B=rand(1:100, $n, $n); C=zeros($n,$n))\n",
    "tune!(b)\n",
    "run(b)"
   ]
  },
  {
   "cell_type": "markdown",
   "id": "429c56b1-1c92-49b0-8f0a-703ecedc6238",
   "metadata": {},
   "source": [
    "#### Multiplicación - Strassen"
   ]
  },
  {
   "cell_type": "code",
   "execution_count": 115,
   "id": "973b5b5f-e804-4d2e-bb4a-032f3e9f4a77",
   "metadata": {},
   "outputs": [
    {
     "data": {
      "text/plain": [
       "BenchmarkTools.Trial: 13 samples with 1 evaluation per sample.\n",
       " Range \u001b[90m(\u001b[39m\u001b[36m\u001b[1mmin\u001b[22m\u001b[39m … \u001b[35mmax\u001b[39m\u001b[90m):  \u001b[39m\u001b[36m\u001b[1m309.369 ms\u001b[22m\u001b[39m … \u001b[35m563.416 ms\u001b[39m  \u001b[90m┊\u001b[39m GC \u001b[90m(\u001b[39mmin … max\u001b[90m): \u001b[39m 2.55% …  1.03%\n",
       " Time  \u001b[90m(\u001b[39m\u001b[34m\u001b[1mmedian\u001b[22m\u001b[39m\u001b[90m):     \u001b[39m\u001b[34m\u001b[1m339.075 ms               \u001b[22m\u001b[39m\u001b[90m┊\u001b[39m GC \u001b[90m(\u001b[39mmedian\u001b[90m):    \u001b[39m 3.45%\n",
       " Time  \u001b[90m(\u001b[39m\u001b[32m\u001b[1mmean\u001b[22m\u001b[39m ± \u001b[32mσ\u001b[39m\u001b[90m):   \u001b[39m\u001b[32m\u001b[1m400.824 ms\u001b[22m\u001b[39m ± \u001b[32m 88.966 ms\u001b[39m  \u001b[90m┊\u001b[39m GC \u001b[90m(\u001b[39mmean ± σ\u001b[90m):  \u001b[39m15.11% ± 13.98%\n",
       "\n",
       "  \u001b[39m█\u001b[39m \u001b[39m \u001b[39m▁\u001b[39m▁\u001b[39m▁\u001b[34m▁\u001b[39m\u001b[39m▁\u001b[39m \u001b[39m \u001b[39m \u001b[39m \u001b[39m \u001b[39m \u001b[39m \u001b[39m \u001b[39m \u001b[39m \u001b[39m \u001b[39m \u001b[39m \u001b[39m \u001b[32m \u001b[39m\u001b[39m \u001b[39m \u001b[39m \u001b[39m \u001b[39m \u001b[39m \u001b[39m \u001b[39m \u001b[39m \u001b[39m \u001b[39m▁\u001b[39m▁\u001b[39m \u001b[39m \u001b[39m \u001b[39m▁\u001b[39m \u001b[39m \u001b[39m \u001b[39m \u001b[39m▁\u001b[39m \u001b[39m▁\u001b[39m \u001b[39m \u001b[39m \u001b[39m \u001b[39m \u001b[39m \u001b[39m \u001b[39m \u001b[39m \u001b[39m \u001b[39m \u001b[39m \u001b[39m \u001b[39m \u001b[39m▁\u001b[39m \u001b[39m \n",
       "  \u001b[39m█\u001b[39m▁\u001b[39m▁\u001b[39m█\u001b[39m█\u001b[39m█\u001b[34m█\u001b[39m\u001b[39m█\u001b[39m▁\u001b[39m▁\u001b[39m▁\u001b[39m▁\u001b[39m▁\u001b[39m▁\u001b[39m▁\u001b[39m▁\u001b[39m▁\u001b[39m▁\u001b[39m▁\u001b[39m▁\u001b[39m▁\u001b[39m▁\u001b[32m▁\u001b[39m\u001b[39m▁\u001b[39m▁\u001b[39m▁\u001b[39m▁\u001b[39m▁\u001b[39m▁\u001b[39m▁\u001b[39m▁\u001b[39m▁\u001b[39m▁\u001b[39m█\u001b[39m█\u001b[39m▁\u001b[39m▁\u001b[39m▁\u001b[39m█\u001b[39m▁\u001b[39m▁\u001b[39m▁\u001b[39m▁\u001b[39m█\u001b[39m▁\u001b[39m█\u001b[39m▁\u001b[39m▁\u001b[39m▁\u001b[39m▁\u001b[39m▁\u001b[39m▁\u001b[39m▁\u001b[39m▁\u001b[39m▁\u001b[39m▁\u001b[39m▁\u001b[39m▁\u001b[39m▁\u001b[39m▁\u001b[39m█\u001b[39m \u001b[39m▁\n",
       "  309 ms\u001b[90m           Histogram: frequency by time\u001b[39m          563 ms \u001b[0m\u001b[1m<\u001b[22m\n",
       "\n",
       " Memory estimate\u001b[90m: \u001b[39m\u001b[33m724.00 MiB\u001b[39m, allocs estimate\u001b[90m: \u001b[39m\u001b[33m39203\u001b[39m."
      ]
     },
     "execution_count": 115,
     "metadata": {},
     "output_type": "execute_result"
    }
   ],
   "source": [
    "n=1024\n",
    "b = @benchmarkable strassen(A, B) setup=(A=rand(1:100, $n, $n); B=rand(1:100, $n, $n))\n",
    "tune!(b)\n",
    "run(b)"
   ]
  },
  {
   "cell_type": "markdown",
   "id": "d6a84c69-aa3b-46dc-8a48-254cb1f0f031",
   "metadata": {},
   "source": [
    "### Eliminaciones"
   ]
  },
  {
   "cell_type": "markdown",
   "id": "6cd31c2d-ab85-4344-9c2a-dd6c2ba4e388",
   "metadata": {},
   "source": [
    "#### Eliminación Gaussiana"
   ]
  },
  {
   "cell_type": "code",
   "execution_count": 116,
   "id": "ca67a904-5c47-4459-a45d-613acb64d045",
   "metadata": {},
   "outputs": [
    {
     "data": {
      "text/plain": [
       "BenchmarkTools.Trial: 5 samples with 1 evaluation per sample.\n",
       " Range \u001b[90m(\u001b[39m\u001b[36m\u001b[1mmin\u001b[22m\u001b[39m … \u001b[35mmax\u001b[39m\u001b[90m):  \u001b[39m\u001b[36m\u001b[1m1.131 s\u001b[22m\u001b[39m … \u001b[35m  1.222 s\u001b[39m  \u001b[90m┊\u001b[39m GC \u001b[90m(\u001b[39mmin … max\u001b[90m): \u001b[39m0.00% … 0.00%\n",
       " Time  \u001b[90m(\u001b[39m\u001b[34m\u001b[1mmedian\u001b[22m\u001b[39m\u001b[90m):     \u001b[39m\u001b[34m\u001b[1m1.175 s              \u001b[22m\u001b[39m\u001b[90m┊\u001b[39m GC \u001b[90m(\u001b[39mmedian\u001b[90m):    \u001b[39m0.00%\n",
       " Time  \u001b[90m(\u001b[39m\u001b[32m\u001b[1mmean\u001b[22m\u001b[39m ± \u001b[32mσ\u001b[39m\u001b[90m):   \u001b[39m\u001b[32m\u001b[1m1.180 s\u001b[22m\u001b[39m ± \u001b[32m36.526 ms\u001b[39m  \u001b[90m┊\u001b[39m GC \u001b[90m(\u001b[39mmean ± σ\u001b[90m):  \u001b[39m0.00% ± 0.00%\n",
       "\n",
       "  \u001b[39m█\u001b[39m \u001b[39m \u001b[39m \u001b[39m \u001b[39m \u001b[39m \u001b[39m \u001b[39m \u001b[39m \u001b[39m \u001b[39m \u001b[39m \u001b[39m \u001b[39m \u001b[39m \u001b[39m \u001b[39m \u001b[39m \u001b[39m \u001b[39m█\u001b[34m \u001b[39m\u001b[39m \u001b[39m \u001b[39m \u001b[39m \u001b[39m \u001b[39m█\u001b[39m \u001b[39m \u001b[39m \u001b[32m \u001b[39m\u001b[39m \u001b[39m \u001b[39m \u001b[39m \u001b[39m \u001b[39m \u001b[39m \u001b[39m \u001b[39m \u001b[39m \u001b[39m \u001b[39m \u001b[39m \u001b[39m \u001b[39m \u001b[39m \u001b[39m \u001b[39m█\u001b[39m \u001b[39m \u001b[39m \u001b[39m \u001b[39m \u001b[39m \u001b[39m█\u001b[39m \u001b[39m \n",
       "  \u001b[39m█\u001b[39m▁\u001b[39m▁\u001b[39m▁\u001b[39m▁\u001b[39m▁\u001b[39m▁\u001b[39m▁\u001b[39m▁\u001b[39m▁\u001b[39m▁\u001b[39m▁\u001b[39m▁\u001b[39m▁\u001b[39m▁\u001b[39m▁\u001b[39m▁\u001b[39m▁\u001b[39m▁\u001b[39m▁\u001b[39m█\u001b[34m▁\u001b[39m\u001b[39m▁\u001b[39m▁\u001b[39m▁\u001b[39m▁\u001b[39m▁\u001b[39m█\u001b[39m▁\u001b[39m▁\u001b[39m▁\u001b[32m▁\u001b[39m\u001b[39m▁\u001b[39m▁\u001b[39m▁\u001b[39m▁\u001b[39m▁\u001b[39m▁\u001b[39m▁\u001b[39m▁\u001b[39m▁\u001b[39m▁\u001b[39m▁\u001b[39m▁\u001b[39m▁\u001b[39m▁\u001b[39m▁\u001b[39m▁\u001b[39m▁\u001b[39m█\u001b[39m▁\u001b[39m▁\u001b[39m▁\u001b[39m▁\u001b[39m▁\u001b[39m▁\u001b[39m█\u001b[39m \u001b[39m▁\n",
       "  1.13 s\u001b[90m         Histogram: frequency by time\u001b[39m        1.22 s \u001b[0m\u001b[1m<\u001b[22m\n",
       "\n",
       " Memory estimate\u001b[90m: \u001b[39m\u001b[33m7.88 KiB\u001b[39m, allocs estimate\u001b[90m: \u001b[39m\u001b[33m3\u001b[39m."
      ]
     },
     "execution_count": 116,
     "metadata": {},
     "output_type": "execute_result"
    }
   ],
   "source": [
    "n=1000\n",
    "A = rand(Float64, n, n)\n",
    "while det(A) == 0\n",
    "    A = rand(Float64, n, n)\n",
    "end\n",
    "\n",
    "b = @benchmarkable gaussiana($A, B) setup=(B = rand(Float64, $n))\n",
    "tune!(b)\n",
    "run(b)"
   ]
  },
  {
   "cell_type": "markdown",
   "id": "185c5fc5-eb20-46a7-8cea-0d2350a76a1f",
   "metadata": {},
   "source": [
    "#### ELiminación Gauss-Jordan"
   ]
  },
  {
   "cell_type": "code",
   "execution_count": 119,
   "id": "de384e8f-8779-4d17-8f0a-ccb32fd3fdcc",
   "metadata": {},
   "outputs": [
    {
     "data": {
      "text/plain": [
       "BenchmarkTools.Trial: 1 sample with 1 evaluation per sample.\n",
       " Single result which took \u001b[34m13.019 s\u001b[39m (10.35% GC) to evaluate,\n",
       " with a memory estimate of \u001b[33m30.27 GiB\u001b[39m, over \u001b[33m11994006\u001b[39m allocations."
      ]
     },
     "execution_count": 119,
     "metadata": {},
     "output_type": "execute_result"
    }
   ],
   "source": [
    "A = rand(Float64, n, n)\n",
    "while det(A) == 0\n",
    "    A = rand(Float64, n, n)\n",
    "end\n",
    "\n",
    "b = @benchmarkable gauss_jordan($A, B) setup=(B = rand(Float64, $n))\n",
    "tune!(b)\n",
    "run(b)"
   ]
  },
  {
   "cell_type": "markdown",
   "id": "7ef4b55f-605c-4e1d-9958-63d2ef63932e",
   "metadata": {},
   "source": [
    "## Tabla de desempeños"
   ]
  },
  {
   "cell_type": "markdown",
   "id": "3ccc3305-3bcb-48cb-8f7c-81bc01c8c797",
   "metadata": {},
   "source": [
    "Se muestran a continuación los tiempos medidos para cada algoritmo de acuerdo al valor *median* que arroja benchamark, ya que en su documentación menciona que es menos proponeso a dar valores atípicos³.\n",
    "\n",
    "| Algoritmo | n=100| n=300 | n=1000 |\n",
    "| --- | --- | --- | --- |\n",
    "| Multiplicación Simple| 2.875 ms | 78.010 ms | 3.453 s |\n",
    "| Elimnación Gaussiana | 4.088 ms | 253.197 ms | 1.175 s |\n",
    "| Eliminación Gauss-Jordan | 4.636 ms | 360.742 ms | 13.019 s |\n",
    "\n",
    "\n",
    "| Algoritmo | n=128| n=512 | n=1024 |\n",
    "| --- | --- | --- | --- |\n",
    "|  Strassen|  702.138 μs | 47.352 ms | 339.075 ms |"
   ]
  },
  {
   "cell_type": "markdown",
   "id": "e75ef7ad-3467-48f5-8559-44afe18a4edf",
   "metadata": {},
   "source": [
    "# Conteo de Operaciones\n",
    "Para cada algoritmo hacemos un análisis del total de operaciones aritméticas y las resumiremos en una tabla.\n",
    "Usaremos la notación $T(n)$ para expresar el número de operaciones requeridas."
   ]
  },
  {
   "cell_type": "markdown",
   "id": "a8c05550-2fe5-4014-9ec1-0699d8d12e73",
   "metadata": {},
   "source": [
    "## Multiplicación de matrices (Naive)\n",
    "\n",
    "  Se tiene que el número de multiplicaciones para cada elemento de la matriz C se obtiene como $n^2\\times n$ ya que en los loops mas internos son para recorrer las matrices A y B y el for externo es para recorrer todos los elementos de C.\n",
    "\n",
    "  Ahora para el caso de las sumas se tiene que se son $n-1$ ya que se suman todos los elementos con todos menos excepto para la primer posición que sería sumar una posición consigo mismo. Y considerando que se hace para cada posición de C se tiene que $n^2(n-1)$\n",
    "\n",
    "  Tenemos entonces que el total de operaciones aritméticas está dado por\n",
    "\n",
    "  $$T(n) = n^3 + n^2(n-1)$$\n",
    "  $$T(n) = 2n^3 + n^2  $$\n"
   ]
  },
  {
   "cell_type": "markdown",
   "id": "9654a526-65d7-4b37-be36-ea7a59b4c3c0",
   "metadata": {},
   "source": [
    "## Strassen\n",
    "\n",
    "  Para este método se tiene que el algoritmo divide las matrices quedando en submatrices de tamaños de $\\frac{n}{2}$, luego hace 7 operaciones recursivas quedando como $7T(\\frac{n}{2})$ y realiza un total de 18 operaciones entre sumas y restas para submatriz.\n",
    "\n",
    "  Por lo que se puede expresar la siguiente relación de recurrencia\n",
    "\n",
    "  $$ T(n) = 7T(\\frac{n}{2}) + 18(\\frac{n}{2})^2$$\n",
    "\n",
    "  En la que el término de $18(\\frac{n}{2})^2$ hace referencia al tamaño total de la submatriz.\n",
    "\n",
    "  \n",
    "  Es importante aclarar que el algoritmo al encontrar tamaños de $n \\leq 64$ hace una multiplicación estándar, por lo que para el caso de $n=100$ el número total de operaciones aritméticas está dado por el siguiente desarrollo\n",
    "\n",
    "  $$T(100) = 7T(50) + 18(50)^2$$\n",
    "\n",
    "  $$T(50) = 7T(25) + 18(25)^2$$\n",
    "\n",
    "  $$T(25) = 2(25)^3 - 25^2$$"
   ]
  },
  {
   "cell_type": "markdown",
   "id": "3b72a114-a470-49b5-8258-29db6dabc50a",
   "metadata": {},
   "source": [
    "## Eliminación Gaussiana\n",
    "\n",
    "  Analizamos para cada linea de codigo el total de operaciones aritmeticas\n",
    "\n",
    "  - `factor = A[i,k] / A[k,k]`\n",
    "\n",
    "    Se contabiliza de forma que tiende a  $(n-1)+(n-2)+\\dots+1 = \\frac{n(n-1)}{2}$\n",
    "  - `A[i,j] = A[i,j] - factor * A[k,j]`\n",
    "\n",
    "    Se puede expresar como\n",
    "    $$\\sum_{k=1}^{n-1}(n-k)(n-k+1)$$\n",
    "    $$\\sum_{k=1}^{n-1}(n^2 -2nk +n -k^2 -k)$$\n",
    " \n",
    "    Si desarrollamos cada término de acuerdo a su serie de convergencia tenemos lo siguientes\n",
    " \n",
    "    $$(n^3 -n^2) -(n^3 - n^2) +(n^2 - n)-(\\frac{2n^3 -3n^2+n}{6})-(\\frac{n^2-n}{2}) = $$\n",
    " \n",
    "    Simplificando tenemos que\n",
    " \n",
    "    $$\\frac{n^2-n}{2} - \\frac{n^3}{3} +\\frac{n^2}{2} - \\frac{n}{6} = $$\n",
    "    $$-\\frac{n^3}{3} - \\frac{2n}{3} $$\n",
    "\n",
    "    Por lo que para una $n$ muy grande se reduce únicamente al término de mayor grado\n",
    "    $$ \\frac{n^3}{3}$$\n",
    "  - `b[i] = b[i] - factor * b[k]`\n",
    "\n",
    "    Se ejecuta $(n-1)+(n-2)+\\dots+1 = \\frac{n(n-1)}{2}$\n",
    "\n",
    "  - `x[n] = b[n] / A[n, n]`\n",
    "\n",
    "    Se ejecuta  $n$\n",
    "  - `sum = sum - A[i, j] * x[j]`\n",
    "\n",
    "    Se ejecuta\n",
    "    $$\\sum_{i=1}^{n-1}(n-i)=\\frac{n(n-1)}{2}$$\n",
    "\n",
    "    Sumando todos los términos anteriores tenemos\n",
    "\n",
    "    $$ \\frac{n(n-1)}{2} + \\frac{n^3}{3}+ \\frac{n(n-1)}{2} + n \\frac{n(n-1)}{2} = $$\n",
    "    $$ \\frac{n^3}{3}+ \\frac{3(n^2-n)}{2} - \\frac{3n}{2}+ n = $$\n",
    "    $$ \\frac{n^3}{3}+ \\frac{3n^2}{2} + \\frac{n}{2}$$\n",
    "\n",
    "    Siendo que para una $n$ muy grande el total de operaciones se tomen en cuenta de acuerdo al término de mayor orden quedando como\n",
    "    $$ T(n) = \\frac{n^3}{3} + \\frac{3n^2}{2} + \\frac{n}{2}$$\n"
   ]
  },
  {
   "cell_type": "markdown",
   "id": "2c3f4384-dc94-456e-a567-8e5254629f2d",
   "metadata": {},
   "source": [
    "## Eliminación Gauss-Jordan\n",
    "  Calculamos para cada linea de código\n",
    "  - `A[i, :] = A[i, :] / pivot` y `b[i] = b[i] / pivot`\n",
    "    Se tienen $n+1$ divisiones por cada fila por lo que se tiene un total de\n",
    "    $$n(n+1)$$\n",
    "\n",
    "  -  `A[j, :] = A[j, :] - factor * A[i, :]`\n",
    " \n",
    "     Se puede expresar como\n",
    " \n",
    "     $$ n(n-1)n = n^3 - n^2$$\n",
    " \n",
    "  -  `b[j] = b[j] - factor * b[i]`\n",
    " \n",
    "     Se puede expresar como\n",
    " \n",
    "     $$ n(n-1) = n^2 - n$$                \n",
    "\n",
    "    Sumando todos los terminos tenemos que el total de operaciones es\n",
    "\n",
    "  $$T(n) = (n^2 +n) +(n^3 - n^2) + (n^2 -n)$$\n",
    "  $$T(n) = n^3 + n^2$$ "
   ]
  },
  {
   "cell_type": "markdown",
   "id": "0030e070-5d13-40d1-b1e1-198f8aa5e985",
   "metadata": {},
   "source": [
    "## Expresiones de conteo de operaciones\n",
    "Se tienen entonces las siguientes expresiones para calcular el total de  operaciones para cada algoritmo \n",
    "\n",
    "- Multiplicación Naive\n",
    "  $$T(n) = 2n^3 + n^2 $$\n",
    "- Strassen\n",
    "  $$T(n) = 7T(\\frac{n}{2}) + 18(\\frac{n}{2})^2$$\n",
    "- Eliminación Gaussiana\n",
    "  $$T(n) = \\frac{n^3}{3} + \\frac{3n^2}{2} + \\frac{n}{2}$$\n",
    "- Eliminación Gauss-Jordan\n",
    "  $$T(n) = n^3 + n^2$$"
   ]
  },
  {
   "cell_type": "markdown",
   "id": "85ec2cbc-3bbb-413c-86c3-07e7dcb9c023",
   "metadata": {},
   "source": [
    "## Operaciones calculadas\n",
    "\n",
    "En la siguiente tabla se muestran el número de operaciones para cada algoritmo dependiendo el tamaño de $n$, de acuerdo a las expresiones obtenidas anteriormente\n",
    "\n",
    "| Algoritmo | n=100| n=300 | n=1000 |\n",
    "| --- | --- | --- | --- |\n",
    "| Multiplicación Simple| 2010000 | 54090000 | 2001000000 |\n",
    "| Elimnación Gaussiana | 348383.33 |9135150 | 1001500500 |\n",
    "| Eliminación Gauss-Jordan | 1010000 | 27090000 | 1001000000 |\n",
    "\n",
    "| Algoritmo | n=128| n=512 | n=1024 |\n",
    "| --- | --- | --- | --- |\n",
    "|  Strassen|  1880064 | 95367168 | 672288768|"
   ]
  },
  {
   "cell_type": "markdown",
   "id": "d7d690fd-11c1-4b2f-8296-fe3de5747f23",
   "metadata": {},
   "source": [
    "# Resultados\n",
    "\n",
    "A continuación observamos que después de calcular tiempos y operaciones hay evidencias de que los algoritmos que tienen mayor costo computacional son los de multiplicación simple y la eliminación de gauss-Jordan, ya que éstos tienen en general un mayor número de operaciones a ejecutar y sus tiempos de ejecución fueron superiores contra Strassen y eliminación gaussiana respectivamente.\n",
    "\n",
    "Por otro lado a pesar de que para el algoritmo de Strassen se hizo experimentos con una $n$ ligeramente mayor para cada caso, se tuvieron tiempos de ejecución  menores, y muchas menos operaciones calculadas para el peor caso.\n",
    "\n",
    "Otra observación importante fue que al momento de realizar los cálculos de operaciones encontramos que el número de cifras significativas eran las que se obtenían a partir del término de mayor grado por lo que nuestras expresiones anteriormente encontradas se pueden reducir al término de mayor grado que era una $n^3$ o usando la notación $O(n^3)$ exceptuando Strassen ya que ese es una relación de recurrencia."
   ]
  },
  {
   "cell_type": "markdown",
   "id": "0310794e-9b00-462a-ad09-3a049532d618",
   "metadata": {},
   "source": [
    "| Algoritmo | t| n=100| t| n=300| t|n=1000 |\n",
    "| --- | --- | --- | --- | --- | --- | --- |\n",
    "| Multiplicación Simple| 2.875 ms | 2010000| 78.010 ms |54090000 | 3.453 s |2001000000 |\n",
    "| Elimnación Gaussiana | 4.088 ms | 348383.33| 253.197 ms | 9135150 |1.175 s | 1001500500 |\n",
    "| Eliminación Gauss-Jordan | 4.636 ms | 1010000 | 360.742 ms |27090000 | 13.019 s |1001000000 |\n",
    "\n",
    "| Algoritmo | t| n=128| t| n=512| t|n=1024 |\n",
    "| --- | --- | --- | --- | --- | --- | --- |\n",
    "|  Strassen|  702.138 us |1880064 |47.352 ms |95367168| 339.075 ms |672288768|\n"
   ]
  },
  {
   "cell_type": "markdown",
   "id": "37e200f2-d84b-48f0-b92b-25866be8c3f8",
   "metadata": {},
   "source": [
    "\n",
    "# Conclusiones\n",
    "\n",
    "Con los algoritmos vistos notamos que el costo computacional es muy alto en cuanto a accesos de memoria, ya que como incluso en las pruebas de desempeño para una n=1000 nos reportaba un consumo alto memoria y de Garbage Collector, suponiendo que el tamaño de $n$ crezca indefinidamente llevaría al desborde de memoria haciendo que el sistema se sature y quede sin espacio para ejecutar otros procesos. El hecho de tener que acceder a grandes segmentos de memoria hace lento al algoritmo y por lo tanto no es óptimo para tamaños de problemas grandes, en estos casos es recomendable ya sea generando mejores algoritmos o encontrar alternativas en la paralelización del mismo algoritmo, aunque eso implica otros componentes de hardware como GPUs. \n",
    "\n",
    "El hecho de plantear el uso de matrices dispersas como se menciona en el libro de  Algorithms for sparse linear systems⁴ tiene que tener ciertas propiedade las matrices como el hecho de que tenga algunos elementos cero para reducir la cantidad de operaciones, ya que al multiplicar columas o filas por elementos ceros no es necesario llevar a cabo la evaluación, haciendo que no sea necesaria la asignación de memoria para esas posiciones en cero, y reacomodando las matrices para que se puedan hacer las operaciones de forma correcta. Pero, para determinar los costos es necesario tener en cuenta cómo están acomodados los elementos cero que ayudarán a reducir elo número de operaciones.\n",
    "          \n",
    "          "
   ]
  },
  {
   "cell_type": "markdown",
   "id": "b881e689-8bae-4891-8807-670908fce08b",
   "metadata": {},
   "source": [
    "# Referencias\n",
    "\n",
    "[1] Strassen, V. (1969). Gaussian elimination is not optimal. Numerische mathematik, 13(4), 354-356.\n",
    "\n",
    "[2] Chapra, S. C., Canale, R. P., Ruiz, R. S. G., Mercado, V. H. I., Díaz, E. M., & Benites, G. E. (2011). Métodos numéricos para ingenieros (Vol. 5, pp. 154-196). New York, NY, USA: McGraw-Hill.\n",
    "\n",
    "[3] https://juliaci.github.io/BenchmarkTools.jl/stable/manual/\n",
    "\n",
    "[4] Scott, J., & Tůma, M. (2023). Algorithms for sparse linear systems (p. 242). Springer Nature.\n"
   ]
  }
 ],
 "metadata": {
  "kernelspec": {
   "display_name": "Julia 1.11.3",
   "language": "julia",
   "name": "julia-1.11"
  },
  "language_info": {
   "file_extension": ".jl",
   "mimetype": "application/julia",
   "name": "julia",
   "version": "1.11.3"
  }
 },
 "nbformat": 4,
 "nbformat_minor": 5
}
